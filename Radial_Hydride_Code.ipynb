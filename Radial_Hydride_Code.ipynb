{
 "cells": [
  {
   "cell_type": "markdown",
   "metadata": {},
   "source": [
    "## Import stuff"
   ]
  },
  {
   "cell_type": "code",
   "execution_count": 3,
   "metadata": {},
   "outputs": [],
   "source": [
    "import numpy as np\n",
    "import copy\n",
    "\n",
    "# Import plotting stuff\n",
    "from matplotlib import pyplot as plt\n",
    "from matplotlib.ticker import PercentFormatter\n",
    "import matplotlib.patches as mpatches\n",
    "from matplotlib_scalebar.scalebar import ScaleBar\n",
    "from matplotlib import cm\n",
    "from matplotlib.patches import Rectangle\n",
    "\n",
    "# Import skimage and scipy stuff\n",
    "from skimage.morphology import remove_small_objects, binary_erosion, binary_dilation, disk, erosion, dilation, opening, closing, medial_axis, skeletonize\n",
    "from skimage.color import rgb2grey\n",
    "from skimage.transform import rescale, resize, downscale_local_mean\n",
    "from skimage.measure import regionprops, label\n",
    "from skimage.transform import hough_line, hough_line_peaks\n",
    "from skimage.feature import peak_local_max\n",
    "from skimage.filters import gaussian\n",
    "from skimage import measure\n",
    "from skimage.graph import route_through_array\n",
    "from skimage.io import imread\n",
    "from scipy import ndimage\n",
    "from scipy import sparse\n",
    "\n",
    "#Import skan stuff\n",
    "from numba.experimental import jitclass\n",
    "from skan import Skeleton, summarize\n",
    "from skan import skeleton_to_csgraph\n",
    "from skan import draw\n",
    "\n",
    "scale=None\n",
    "%matplotlib qt\n",
    "\n",
    "def addScaleBar(ax):\n",
    "    \"\"\"Add a scale bar to an axes.\n",
    "    \"\"\"\n",
    "    if scale:\n",
    "        scalebar = ScaleBar(scale)\n",
    "        fig.gca().add_artist(scalebar)\n",
    "        plt.show()\n",
    "\n",
    "def addArrows(ax, c='r', lenx=0.04, leny=0.06, flip=False):\n",
    "    \"\"\"Add coordinate definition arrows (radial and circumferential) to an axes.\n",
    "    \"\"\"\n",
    "    startcoord = (0.02, 0.02);\n",
    "    \n",
    "    ax.annotate(\"\", xy=(startcoord[0]-0.002, startcoord[1]), xytext=(startcoord[0]+lenx, startcoord[1]), xycoords = 'axes fraction', c=c, arrowprops=dict(arrowstyle=\"<-\", color=c, lw=3))\n",
    "    ax.annotate(\"\", xy=(startcoord[0], startcoord[1]-0.002), xytext=(startcoord[0], startcoord[1]+leny), xycoords = 'axes fraction', c=c, arrowprops=dict(arrowstyle=\"<-\", color=c, lw=3))\n",
    "    if flip == False:\n",
    "        ax.annotate(\"R\", xy=(0.011, startcoord[1]+leny), xycoords = 'axes fraction', fontsize=18, fontweight='bold', c=c)\n",
    "        ax.annotate(\"C\", xy=(startcoord[0]+lenx, 0.01), xycoords = 'axes fraction', fontsize=18, fontweight='bold', c=c)\n",
    "    if flip == True:\n",
    "        ax.annotate(\"C\", xy=(0.011, startcoord[1]+leny), xycoords = 'axes fraction', fontsize=18, fontweight='bold', c=c)\n",
    "        ax.annotate(\"R\", xy=(startcoord[0]+lenx, 0.01), xycoords = 'axes fraction', fontsize=18, fontweight='bold', c=c)\n",
    "\n",
    "# Run cropImage(im) to crop an image\n",
    "def cropImage(im, crop_bottom, crop_top, crop_left, crop_right):\n",
    "    \"\"\"Crop an image.\n",
    "    \"\"\"\n",
    "    if crop_bottom == 0:\n",
    "        im = im[crop_top:]\n",
    "    else:\n",
    "        im = im[crop_top:-crop_bottom]\n",
    "    if crop_right == 0:\n",
    "        im = im[:, crop_left:]\n",
    "    else:\n",
    "        im = im[:, crop_left:-crop_right]\n",
    "    return im\n",
    "\n",
    "def plot_comparison(original, filtered, orig_name, filter_name):\n",
    "    \"\"\"Plotting two plots next to each other.\n",
    "    \"\"\"\n",
    "    fig, (ax_a, ax_b) = plt.subplots(ncols=2, figsize=(26, 16), sharex=True, sharey=True)\n",
    "    ax_a.imshow(original, cmap=plt.cm.gray)\n",
    "    ax_a.set_title(orig_name, fontsize=16)\n",
    "    ax_a.axis('off')\n",
    "    ax_b.imshow(filtered, cmap=plt.cm.gray)\n",
    "    ax_b.set_title(filter_name, fontsize=16)\n",
    "    ax_b.axis('off')\n",
    "    addArrows(ax_a)\n",
    "    addArrows(ax_b)\n",
    "    addScaleBar(ax_b)\n",
    "    \n",
    "def nan_gaussian(arr, sigma):\n",
    "    \"\"\"Apply a gaussian filter to an array with nans.\n",
    "    \"\"\"\n",
    "    nan_msk = np.isnan(arr)\n",
    "    loss = np.zeros(arr.shape)\n",
    "    loss[nan_msk] = 1\n",
    "    loss = ndimage.gaussian_filter(loss, sigma=sigma, mode='constant', cval=1)\n",
    "    gauss = arr.copy()\n",
    "    gauss[nan_msk] = 0\n",
    "    gauss = ndimage.gaussian_filter(gauss, sigma=sigma, mode='constant', cval=0)\n",
    "    gauss[nan_msk] = np.nan\n",
    "    gauss += loss * arr\n",
    "\n",
    "    return gauss"
   ]
  },
  {
   "cell_type": "markdown",
   "metadata": {},
   "source": [
    "## Import image"
   ]
  },
  {
   "cell_type": "markdown",
   "metadata": {},
   "source": [
    "Enter filename after `image=` - will require full path unless it's in the same folder as the notebook. It is also possible to crop the image here `crop_bottom`, `crop_top`, `crop_left` and `crop_right`. Radial is defined as vertical - if necessary, set `transpose` to `True` to make radial along vertical. Set `scale` to the size of a pixel in metres:"
   ]
  },
  {
   "cell_type": "code",
   "execution_count": 4,
   "metadata": {},
   "outputs": [
    {
     "name": "stdout",
     "output_type": "stream",
     "text": [
      "Loaded image: colas5.jpg\n",
      "Dimensions: 437 x 437 px\n",
      "\n",
      "One pixel = 0.377 um\n",
      "Dimensions: 0.2 x 0.2 mm\n"
     ]
    }
   ],
   "source": [
    "###################################################################\n",
    "image_path = 'colas5.jpg'\n",
    "crop_bottom = 0; crop_top = 0; crop_left = 0; crop_right = 0;\n",
    "transpose = False\n",
    "scale = 0.08e-3/212\n",
    "###################################################################\n",
    "\n",
    "original_image = imread(image_path)\n",
    "original_image = rgb2grey(original_image)\n",
    "if transpose == True:\n",
    "    original_image = np.transpose(original_image)\n",
    "original_image = cropImage(original_image, crop_bottom, crop_top, crop_left, crop_right)\n",
    "\n",
    "print('Loaded image: {0}'.format(image_path))\n",
    "print('Dimensions: {0} x {1} px'.format(original_image.shape[1], original_image.shape[0]))\n",
    "\n",
    "if scale is not None:\n",
    "    scalebar = ScaleBar(scale)\n",
    "    print('\\nOne pixel = {0:.3f} um'.format(scale*1e6))\n",
    "    print('Dimensions: {0:.1f} x {1:.1f} mm'.format(original_image.shape[1]*scale*1e3, original_image.shape[0]*scale*1e3))\n",
    "\n",
    "fig, ax = plt.subplots(figsize=(16,16))\n",
    "plt.axis('off')\n",
    "plt.imshow(original_image, cmap='gray')\n",
    "plt.title('Original image', fontsize=16)\n",
    "addArrows(ax)\n",
    "addScaleBar(ax)\n",
    "\n",
    "fig, ax = plt.subplots(figsize=(10,4))\n",
    "ax.hist(original_image.flatten(), bins=80, range=(0,1));\n",
    "ax.set_title('Image Histogram', fontsize=16);\n",
    "ax.set_xlabel('Gray value', fontsize=14); ax.set_ylabel('Frequency', fontsize=14);"
   ]
  },
  {
   "cell_type": "markdown",
   "metadata": {},
   "source": [
    "## Crop black edges of image"
   ]
  },
  {
   "cell_type": "markdown",
   "metadata": {},
   "source": [
    "Find large darks block (like at the edges of images) and crop these - check that hydrides are not cropped.\n",
    "Change `crop_param`, `size_param` and `dilation_param` if necessary."
   ]
  },
  {
   "cell_type": "code",
   "execution_count": 5,
   "metadata": {},
   "outputs": [],
   "source": [
    "##############################################################################################\n",
    "# Threshold used for removing dark edges, use the histogram above to determine this value\n",
    "crop_param = 0.0; \n",
    "\n",
    "# Make sure features below this size (i.e. hydrides) are not included in cropping\n",
    "size_param = 500\n",
    "\n",
    "# Dilate the cropped boundary by this many pixels\n",
    "dilation_param = 5\n",
    "##############################################################################################\n",
    "\n",
    "crop_threshold = original_image < crop_param\n",
    "crop_threshold = remove_small_objects(crop_threshold, size_param)\n",
    "\n",
    "crop_threshold = binary_dilation(crop_threshold, selem=disk(dilation_param))        \n",
    "cropped_image = copy.deepcopy(original_image)\n",
    "cropped_image[crop_threshold] = np.nan\n",
    "\n",
    "plot_comparison(crop_threshold, cropped_image, 'Cropping Threshold (white is cropped)', 'Cropped Image')\n",
    "\n",
    "fig, ax = plt.subplots(figsize=(10,6))\n",
    "ax.hist(cropped_image[~np.isnan(cropped_image)].flatten(), bins=80, range=[0,1]);\n",
    "ax.set_title('Image Histogram', fontsize=16);\n",
    "ax.set_xlabel('Gray value', fontsize=14); ax.set_ylabel('Frequency', fontsize=14);"
   ]
  },
  {
   "cell_type": "markdown",
   "metadata": {},
   "source": [
    "## Try to minimise grain contrast"
   ]
  },
  {
   "cell_type": "markdown",
   "metadata": {},
   "source": [
    "Divide the image by a Gaussian blur of the same image to try to remove grain contrast and variations in brightness across the image. Change `sigma` to change the Gaussian blur radius"
   ]
  },
  {
   "cell_type": "code",
   "execution_count": 6,
   "metadata": {},
   "outputs": [],
   "source": [
    "##################\n",
    "sigma = 50\n",
    "##################\n",
    "\n",
    "fig, ax1 = plt.subplots(figsize=(14,8))\n",
    "plt.axis('off')\n",
    "gaussian_blur = nan_gaussian(cropped_image, sigma = sigma)\n",
    "removedGrains = cropped_image/gaussian_blur\n",
    "ax1.imshow(removedGrains, cmap='gray')\n",
    "ax1.set_title('Remove local contrast variation', fontsize=16);\n",
    "addArrows(ax1)\n",
    "addScaleBar(ax1)\n",
    "\n",
    "fig, ax = plt.subplots(figsize=(10,6))\n",
    "ax.hist(removedGrains[~np.isnan(removedGrains)].flatten(), bins=60, range=(0,2));\n",
    "ax.set_title('Image Histogram', fontsize=16);\n",
    "ax.set_xlabel('Gray value', fontsize=14); ax.set_ylabel('Frequency', fontsize=14);"
   ]
  },
  {
   "cell_type": "markdown",
   "metadata": {},
   "source": [
    "## Simple threshold"
   ]
  },
  {
   "cell_type": "markdown",
   "metadata": {},
   "source": [
    "Change the threshold value by changing the `threshold` variable and remove small objects (noise), below a certain size defined by the `small_object` paramater. Use the original image histogram to determine the thresholding limit"
   ]
  },
  {
   "cell_type": "code",
   "execution_count": 7,
   "metadata": {},
   "outputs": [],
   "source": [
    "####################################\n",
    "threshold = 0.90\n",
    "small_object = 250\n",
    "####################################\n",
    "\n",
    "thres = removedGrains < threshold\n",
    "thres = remove_small_objects(thres, min_size=small_object)\n",
    "\n",
    "# cropped = nan, hydride = 1, no hydride = 0\n",
    "thres_disp = copy.deepcopy(thres)\n",
    "thres_disp = np.array(thres_disp)*1.0\n",
    "thres_disp[crop_threshold] = np.nan\n",
    "           \n",
    "cropped_image = copy.deepcopy(removedGrains)\n",
    "cropped_image[crop_threshold] = np.nan\n",
    "\n",
    "plot_comparison(thres_disp, cropped_image,'Thresholded Image', 'Cropped Image')\n",
    "\n",
    "fig, ax = plt.subplots(figsize=(10,6))\n",
    "ax.hist([cropped_image[thres_disp==1].flatten(), cropped_image[thres_disp==0].flatten()], stacked=True, label=['Hydride', 'Background'], bins=60, range=(0,2));\n",
    "ax.set_title('Image Histogram', fontsize=16);\n",
    "ax.set_xlabel('Gray value', fontsize=14); ax.set_ylabel('Frequency', fontsize=14);\n",
    "plt.legend();"
   ]
  },
  {
   "cell_type": "markdown",
   "metadata": {},
   "source": [
    "## Hough Line Transform For Hydrides"
   ]
  },
  {
   "cell_type": "markdown",
   "metadata": {},
   "source": [
    "Here there are three parameters that you can change that are input into the Hough Transform:\n",
    "`num_peaks` = max number of lines drawn in each bounding box\n",
    "`min_distance` = minimum distance separating two parallel lines\n",
    "`min_angle` = minimum angle separating two lines\n",
    "\n",
    "Here, bounding boxes are drawn around each hydride and the hough line tranform is calculated for each hydride. \n",
    "Importantly, the threshold is set as `threshold = 0.25*np.amax(h)` this means that only hydrides that are at least 0.25 times the length of the longest hydride are measured. This can also be changed dependednt of needs, but increases the noise associated with the hough transform. "
   ]
  },
  {
   "cell_type": "code",
   "execution_count": 25,
   "metadata": {},
   "outputs": [
    {
     "name": "stdout",
     "output_type": "stream",
     "text": [
      "Number of detected angles: 363\n",
      "Radial Hydride Fraction: 0.317 \n",
      " Circumferential Hydride Fraction: 0.683\n"
     ]
    }
   ],
   "source": [
    "####################################\n",
    "# Maximum number of lines\n",
    "num_peaks=20\n",
    "# Minimum hough space distance between each detected line should be less than 10 pixels\n",
    "min_distance=5\n",
    "# Minimum hough space angle between each detected line #10 degrees too large\n",
    "min_angle=4\n",
    "####################################\n",
    "fig, axes = plt.subplots(2, 1, figsize=(30,35))\n",
    "ax = axes.ravel()\n",
    "# Read in image (if you erode the image read in that image here instead of thres)\n",
    "image2 = thres\n",
    "# Plotting\n",
    "ax[0].imshow(image2, cmap='gray')\n",
    "ax[0].set_axis_off()\n",
    "ax[0].set_title('Thresholded image', fontsize=16)\n",
    "addArrows(axes[0])\n",
    "# Label image\n",
    "label, num_features = ndimage.label(image2 > 0.1)\n",
    "slices = ndimage.find_objects(label)\n",
    "# Loop over each slice\n",
    "len_list = np.zeros([0]); angle_list = np.zeros([0]); d_list = np.zeros([0]);\n",
    "for feature in np.arange(num_features):\n",
    "    h, theta, d = hough_line(label[slices[feature]], theta=np.linspace(-np.pi/2 , np.pi/2 , 90))\n",
    "    threshold = 0.25*np.amax(h)\n",
    "    h_peak, angles, d_peak = hough_line_peaks(h, theta, d, threshold=threshold, num_peaks=num_peaks, min_distance=min_distance, min_angle=min_angle)\n",
    "    angle_list = np.append(angle_list,angles)\n",
    "    len_list = np.append(len_list,h_peak)\n",
    "    d_list = np.append(d_list, d_peak)\n",
    "    # Draw bounding box\n",
    "    x0_box = np.min([slices[feature][1].stop, slices[feature][1].start])\n",
    "    y0_box = np.min([slices[feature][0].stop, slices[feature][0].start])\n",
    "    x1_box = np.max([slices[feature][1].stop, slices[feature][1].start])\n",
    "    y1_box = np.max([slices[feature][0].stop, slices[feature][0].start])\n",
    "    rect = Rectangle((x0_box, y0_box), x1_box-x0_box, y1_box-y0_box, angle=0.0, ec='r', fill=False)\n",
    "    ax[0].add_artist(rect)\n",
    "    origin=np.array((0, np.abs(x1_box-x0_box)))\n",
    "    for _, angle, dist in zip(h_peak, angles, d_peak):\n",
    "        y0b, y1b = (dist - np.array((0, x1_box-x0_box)) * np.cos(angle)) / np.sin(angle)\n",
    "        y0_line = y0b+y0_box; y1_line = y1b+y0_box\n",
    "        x0_line = x0_box; x1_line = x1_box\n",
    "        m = (y1_line-y0_line)/(x1_line-x0_line)\n",
    "        # Fix lines which go over the edges of bounding boxes\n",
    "        if y0_line < y0_box: x0_line = ((y0_box - y1_line) / m) + x1_line; y0_line = y0_box;\n",
    "        if y0_line > y1_box: x0_line = ((y1_box - y1_line) / m) + x1_line; y0_line = y1_box;\n",
    "        if y1_line < y0_box: x1_line = ((y0_box - y1_line) / m) + x1_line; y1_line = y0_box;\n",
    "        if y1_line > y1_box: x1_line = ((y1_box - y1_line) / m) + x1_line; y1_line = y1_box;\n",
    "        ax[0].plot(np.array((x0_line, x1_line)), (y0_line, y1_line), '-g')\n",
    "print('Number of detected angles: {0}'.format(len(len_list)))\n",
    "ax[0].set_xlim(0,image2.shape[1]); ax[0].set_ylim(0,image2.shape[0]);\n",
    "# Radial/circumferential fractions\n",
    "radial = np.sum(np.where(np.logical_and(-np.pi / 4 <= angle_list, angle_list < np.pi / 4), len_list, 0))\n",
    "circumferential = np.sum(np.where(np.logical_and(-np.pi / 4 <= angle_list, angle_list < np.pi / 4), 0, len_list))\n",
    "print('Radial Hydride Fraction: {0:.3f} \\n Circumferential Hydride Fraction: {1:.3f}'.format(radial/(radial+circumferential),circumferential/(radial+circumferential))   )\n",
    "ax[1].scatter(np.rad2deg(angle_list),len_list,color='r')\n",
    "ax[1].set_xlabel('Angle ($\\degree$)', fontsize=14); ax[1].set_ylabel('Hough space peak intensity', fontsize=14);\n",
    "ax[1].set_xlim(-90, 90)\n",
    "plt.savefig('plot.pdf')\n",
    "plt.show()"
   ]
  },
  {
   "cell_type": "markdown",
   "metadata": {},
   "source": [
    "## Radial Hydride Fraction Determination With Projection Factor\n",
    "\n",
    "This value is calculated based on the RHF proposed by Colas et al (add ref)\n",
    "Note that the angles produced by the hough line transform are reversed ( an angle of 0 = fully radial and an angle of 90 = fully circumferential)"
   ]
  },
  {
   "cell_type": "code",
   "execution_count": 26,
   "metadata": {},
   "outputs": [
    {
     "name": "stdout",
     "output_type": "stream",
     "text": [
      "The total length of hydrides is: 11459.0 um\n",
      "The radial hydride fraction is:  0.372\n"
     ]
    }
   ],
   "source": [
    "#convert radian values to degrees\n",
    "deg_angle_list = np.rad2deg(angle_list)\n",
    "fi = []\n",
    "\n",
    "for k in deg_angle_list:\n",
    "    if k >0 and k<=30: x=1\n",
    "    elif k>30 and k<=50: x=0.5\n",
    "    elif k>50 and k<=90: x=0\n",
    "    elif k>-30 and k<=0: x=1\n",
    "    elif k>-50 and k<=-30: x=0.5\n",
    "    elif k>-90 and k<=-50: x=0\n",
    "        \n",
    "    fi.append(x)\n",
    "\n",
    "#The next step is to do the summation\n",
    "SumOfLixFi = sum(len_list*np.array(fi))\n",
    "SumOfLi = sum(len_list)\n",
    "\n",
    "print('The total length of hydrides is: {0:.1f} um'.format(SumOfLi))\n",
    "\n",
    "RHF = SumOfLixFi/SumOfLi\n",
    "print('The radial hydride fraction is:  {0:.3f}'.format(RHF))"
   ]
  },
  {
   "cell_type": "markdown",
   "metadata": {},
   "source": [
    "## Connectivity factor\n",
    "\n",
    "Here we plot the path of least resistance from the top to the bottom of the microstrucutre. \n",
    "We have added a scaling function to make moving in the horizonal direction more costly --> this is because in reality hydrides oriented in the circumferential direction do not cause rapid crack propagation and failure. "
   ]
  },
  {
   "cell_type": "code",
   "execution_count": 27,
   "metadata": {},
   "outputs": [
    {
     "data": {
      "text/plain": [
       "<matplotlib.collections.PathCollection at 0x7f8c4567da90>"
      ]
     },
     "execution_count": 27,
     "metadata": {},
     "output_type": "execute_result"
    }
   ],
   "source": [
    "con_img = thres\n",
    "\n",
    "edist = ndimage.morphology.distance_transform_edt(con_img==0)\n",
    "edist = rescale(edist,(1,1))\n",
    "\n",
    "#add a row of zeros on the top and bottom \n",
    "edist[0,:]=0\n",
    "edist[-1,:]=0\n",
    "\n",
    "path, cost = route_through_array(edist,[0,0],[-1,-1])\n",
    "path2=np.array(path)\n",
    "path3 = []\n",
    "for item in path2:\n",
    "    if item[0] != 0:\n",
    "        if item[0]!= edist.shape[0]-1:\n",
    "            path3.append(item)\n",
    "\n",
    "path4 = np.array(path3)\n",
    "\n",
    "plt.imshow(edist)\n",
    "plt.colorbar()\n",
    "plt.scatter(path4[:,1], path4[:,0], s=3, c='r')"
   ]
  },
  {
   "cell_type": "markdown",
   "metadata": {},
   "source": [
    "## Branching Length Fraction"
   ]
  },
  {
   "cell_type": "code",
   "execution_count": 8,
   "metadata": {},
   "outputs": [
    {
     "name": "stdout",
     "output_type": "stream",
     "text": [
      "The Branch Length Fraction =  0.25383610680259533\n"
     ]
    }
   ],
   "source": [
    "branched = thres\n",
    "skeleton = skeletonize(branched)\n",
    "plt.imshow(skeleton, cmap ='gray')\n",
    "#plt.show()\n",
    "\n",
    "\n",
    "#Label all of the unique hydrides\n",
    "label, num_features = ndimage.label(skeleton,structure = [[1,1,1],[1,1,1],[1,1,1]])\n",
    "\n",
    "total_length = np.sum(skeleton)\n",
    "total_branch_length = 0\n",
    "for l in range(num_features):\n",
    "    feature_image = label == l + 1\n",
    "    pixel_graph, coordinates, degrees = skeleton_to_csgraph(label == l+1)\n",
    "    shortest_distance = sparse.csgraph.shortest_path(pixel_graph)\n",
    "    shortest_distance= np.where(shortest_distance == np.inf, 0, shortest_distance)\n",
    "    main_hydride_length = np.amax(shortest_distance)\n",
    "    total_branch_length += np.sum(feature_image) - main_hydride_length\n",
    "\n",
    "#Ask how to plot a pretty image     \n",
    "BLF =  total_branch_length/total_length    \n",
    "print('The Branch Length Fraction = ',BLF)\n"
   ]
  },
  {
   "cell_type": "code",
   "execution_count": null,
   "metadata": {},
   "outputs": [],
   "source": []
  },
  {
   "cell_type": "code",
   "execution_count": null,
   "metadata": {},
   "outputs": [],
   "source": []
  },
  {
   "cell_type": "code",
   "execution_count": null,
   "metadata": {},
   "outputs": [],
   "source": []
  }
 ],
 "metadata": {
  "kernelspec": {
   "display_name": "Python 3",
   "language": "python",
   "name": "python3"
  },
  "language_info": {
   "codemirror_mode": {
    "name": "ipython",
    "version": 3
   },
   "file_extension": ".py",
   "mimetype": "text/x-python",
   "name": "python",
   "nbconvert_exporter": "python",
   "pygments_lexer": "ipython3",
   "version": "3.8.3"
  }
 },
 "nbformat": 4,
 "nbformat_minor": 4
}
