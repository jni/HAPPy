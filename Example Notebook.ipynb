{
 "cells": [
  {
   "cell_type": "markdown",
   "metadata": {},
   "source": [
    "## Import packages"
   ]
  },
  {
   "cell_type": "code",
   "execution_count": null,
   "metadata": {},
   "outputs": [],
   "source": [
    "# First import matplotlib (for plotting) and skan\n",
    "from matplotlib import pyplot as plt\n",
    "%matplotlib inline\n",
    "from skan import draw\n",
    "import numpy as np\n",
    "\n",
    "# Then import the radial hydride packagess\n",
    "from RHaP import import_image\n",
    "from RHaP import cropping_functions as crop\n",
    "from RHaP import plot_functions as plt_f\n",
    "from RHaP import radial_hydride_fraction as RHF\n",
    "from RHaP import branching as branch\n",
    "from RHaP import crack_path as cp\n",
    "from RHaP import image_processing"
   ]
  },
  {
   "cell_type": "markdown",
   "metadata": {},
   "source": [
    "## Importing Image"
   ]
  },
  {
   "cell_type": "markdown",
   "metadata": {},
   "source": [
    "- First, import the image using the `import_image` command. Transpose the image if necessary using the `transpose` argument to make the radial direction vertical. \n",
    "- The `cropImage` function applies a rectangular crop to the image to remove scale bars, or if you have a specific rectangular region you want to look at. \n",
    "- Define the scale of the image (in pixels per meter) as `scale` in order to overlay scale bar."
   ]
  },
  {
   "cell_type": "code",
   "execution_count": null,
   "metadata": {},
   "outputs": [],
   "source": [
    "# Load image\n",
    "original_image = import_image.image(image_path ='data/example.bmp', transpose = True)\n",
    "cropped_image = crop.cropImage(original_image, crop_bottom=240, crop_top=0, crop_left=0, crop_right=0)\n",
    "\n",
    "# Set scale: 0.1 mm = 162 pixels\n",
    "scale = 0.1e-3 / 162\n",
    "location = 'lower right'\n",
    "\n",
    "# Plot image\n",
    "plt_f.plot(img=cropped_image, title='Loaded image', scale=scale, location=location)"
   ]
  },
  {
   "cell_type": "markdown",
   "metadata": {},
   "source": [
    "## Additional Cropping"
   ]
  },
  {
   "cell_type": "markdown",
   "metadata": {},
   "source": [
    "The second crop function is `cropping_tube`, which should be used if the micrograph is curved and removes black pats of the image which are not the tube."
   ]
  },
  {
   "cell_type": "code",
   "execution_count": null,
   "metadata": {},
   "outputs": [],
   "source": [
    "# Crop tube\n",
    "cropped_image, crop_threshold = crop.cropping_tube(cropped_image, \n",
    "                                                   crop_param = 0.1, size_param = 500, dilation_param = 5)\n",
    "\n",
    "# Plot comparison\n",
    "plt_f.plot_comparison(original_image, 'Original image crop', cropped_image, 'Tube crop', \n",
    "                      scale=scale, location=location)"
   ]
  },
  {
   "cell_type": "markdown",
   "metadata": {},
   "source": [
    "## Image Processing"
   ]
  },
  {
   "cell_type": "markdown",
   "metadata": {},
   "source": [
    "Grain contast or uneven lighting can be minimised through the application of a gaussian blur in the `minimize_grain_contrast` function."
   ]
  },
  {
   "cell_type": "code",
   "execution_count": null,
   "metadata": {},
   "outputs": [],
   "source": [
    "# Remove grain contrast\n",
    "removed_grains = image_processing.minimize_grain_contrast(cropped_image, sigma=10)\n",
    "\n",
    "# Plot image\n",
    "plt_f.plot(img=cropped_image, title='Minimised grain contrast', scale=scale, location=location)\n",
    "\n",
    "# Plot the histogram for removed grains so that we can see where we should threshold \n",
    "histogram = plt_f.plot_hist(removed_grains)\n",
    "\n",
    "# Print an approximate threshold value which should work well\n",
    "print('Approximate threshold: {0:.3f}'.format(\n",
    "    2*np.nanmedian(removed_grains)-np.nanpercentile(removed_grains, 98)))"
   ]
  },
  {
   "cell_type": "markdown",
   "metadata": {},
   "source": [
    "## Thresholding"
   ]
  },
  {
   "cell_type": "markdown",
   "metadata": {},
   "source": [
    "After this, the image is thresholded using the `simple_threshold` function. The threshold value should be set using the `threshold` argument. Small features, less than a given size `small_obj` can optionally be removed. Note it is important not too over threshold the image, guidance of a value to threshold cis shown above and can be determined by investigating the histograms plotted above."
   ]
  },
  {
   "cell_type": "code",
   "execution_count": null,
   "metadata": {},
   "outputs": [],
   "source": [
    "# Apply threshold\n",
    "thres = image_processing.simple_threshold(removed_grains, crop_threshold, \n",
    "                                          threshold = 0.820, small_obj = 50)\n",
    "\n",
    "# Plot the thresholded image and compare it to the original image: \n",
    "plt_f.plot_comparison(cropped_image, 'Original Image', thres,'Thresholded Image', \n",
    "                      scale=scale, location=location)"
   ]
  },
  {
   "cell_type": "markdown",
   "metadata": {},
   "source": [
    "## Radial Hydride Fraction Calculation"
   ]
  },
  {
   "cell_type": "markdown",
   "metadata": {},
   "source": [
    "The first step is to perform the hough line transform `hough_rad` there are a few input parameters that should be considered: \n",
    "- `num_peaks`: should be changed dependent on the type of micrograph, if your hydrides are straight and not very interconnected a small value of around 2 is good, if in one box, there are many branches that need to be picked up, this value should be increased accordingly.\n",
    "- `min_dist`, `min_angle` and `val` are pre-set and seem to work for most cases.\n",
    "        "
   ]
  },
  {
   "cell_type": "code",
   "execution_count": null,
   "metadata": {},
   "outputs": [],
   "source": [
    "# Apply Hough transform\n",
    "angle_list,len_list = RHF.hough_rad(thres, num_peaks=2, scale=scale, location=location)"
   ]
  },
  {
   "cell_type": "code",
   "execution_count": null,
   "metadata": {},
   "outputs": [],
   "source": [
    "#Non weighted radial hydride fraction\n",
    "radial, circumferential = RHF.RHF_no_weighting_factor(angle_list, len_list)\n",
    "\n",
    "print('The non-weighted RHF is {0:.4f}'.format(radial))"
   ]
  },
  {
   "cell_type": "code",
   "execution_count": null,
   "metadata": {},
   "outputs": [],
   "source": [
    "#Weighted Radial Hydride Fraction \n",
    "fraction = RHF.weighted_RHF_calculation(angle_list, len_list)\n",
    "\n",
    "print('The weighted RHF is: {0:.4f}'.format(fraction))"
   ]
  },
  {
   "cell_type": "markdown",
   "metadata": {},
   "source": [
    "## Branch Length Fraction"
   ]
  },
  {
   "cell_type": "markdown",
   "metadata": {},
   "source": [
    "Here we want to determine the extent of branching within the microstrucutre, this is done in two ways: \n",
    "- In image form where the branches are coloured differently to the main hydride\n",
    "- BLF the length fraction of branches with respect to the toatal length of all hydrides in the microstrucutre"
   ]
  },
  {
   "cell_type": "code",
   "execution_count": null,
   "metadata": {},
   "outputs": [],
   "source": [
    "# Calculate the branch length fraction\n",
    "skel,is_main,BLF = branch.branch_classification(thres);\n",
    "\n",
    "# Plot branching image\n",
    "fig, ax = plt.subplots(figsize=(10,6))\n",
    "ax = draw.overlay_skeleton_2d_class(\n",
    "    skel,\n",
    "    skeleton_color_source=lambda s: is_main,\n",
    "    skeleton_colormap='spring',\n",
    "    axes=ax\n",
    "     )\n",
    "\n",
    "plt.axis('off')\n",
    "plt.title('Branched hydrides')\n",
    "plt_f.addScaleBar(ax[0], scale=scale, location=location)\n",
    "plt_f.addArrows(ax[0])\n",
    "\n",
    "print('The BLF is: {0:.4f}'.format(BLF))"
   ]
  },
  {
   "cell_type": "markdown",
   "metadata": {},
   "source": [
    "## Crack Path"
   ]
  },
  {
   "cell_type": "markdown",
   "metadata": {},
   "source": [
    "Here we want to determine potential crack paths through the microstrucutre, we input the thresholded image `thres`. After running once, the area around that path (radius set with `kernel_size`) is discounted, then the process is repeated `num_runs` times."
   ]
  },
  {
   "cell_type": "code",
   "execution_count": null,
   "metadata": {},
   "outputs": [],
   "source": [
    "# Determing potential crack paths\n",
    "edist, path_list, cost_list = cp.det_crack_path(thres, crop_threshold, num_runs=10, kernel_size=20)"
   ]
  },
  {
   "cell_type": "code",
   "execution_count": null,
   "metadata": {},
   "outputs": [],
   "source": [
    "# Plot possible crack paths\n",
    "fig, ax = plt.subplots(figsize=(10,6))\n",
    "list_costs = []\n",
    "\n",
    "for n, (p, c) in enumerate(zip(path_list, cost_list)):\n",
    "    \n",
    "    im = ax.imshow(thres, cmap='gray')\n",
    "    \n",
    "    if n==0:\n",
    "        plt.colorbar(im,fraction=0.03, pad=0.01)\n",
    "    ax.scatter(p[:,1], p[:,0], s=2, alpha=0.1)\n",
    "    ax.text(p[-1][1], p[-1][0], s=str(n), c='w', bbox=dict(facecolor='black', edgecolor='black'))\n",
    "    plt.axis('off')\n",
    "    print('Run #{0}\\tCost = {1:.2f}'.format(n,c))\n",
    "    list_costs.append(c)\n",
    "    \n",
    "plt_f.addScaleBar(ax, scale=scale, location=location)\n",
    "plt_f.addArrows(ax)"
   ]
  },
  {
   "cell_type": "code",
   "execution_count": null,
   "metadata": {},
   "outputs": [],
   "source": [
    "# Histograms for plotting the costs of each path\n",
    "plt.hist(list_costs, bins=5, cumulative = True, color = \"cornflowerblue\", ec=\"cornflowerblue\", label = \"Cumulative Distribution Function\")\n",
    "plt.hist(list_costs, bins=5, color = \"lightpink\", ec=\"lightpink\", label = \"Normal Distribution Function\")\n",
    "plt.legend()\n",
    "plt.xlabel('Cost', fontsize=\"12\")\n",
    "plt.ylabel('Frequency',fontsize=\"12\")\n",
    "plt.title('Paths of Lowest Cost', fontweight=\"bold\", fontsize=\"15\")\n",
    "plt.show()"
   ]
  },
  {
   "cell_type": "code",
   "execution_count": null,
   "metadata": {},
   "outputs": [],
   "source": []
  }
 ],
 "metadata": {
  "kernelspec": {
   "display_name": "Python 3",
   "language": "python",
   "name": "python3"
  },
  "language_info": {
   "codemirror_mode": {
    "name": "ipython",
    "version": 3
   },
   "file_extension": ".py",
   "mimetype": "text/x-python",
   "name": "python",
   "nbconvert_exporter": "python",
   "pygments_lexer": "ipython3",
   "version": "3.7.4"
  }
 },
 "nbformat": 4,
 "nbformat_minor": 4
}
