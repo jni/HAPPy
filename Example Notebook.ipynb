{
 "cells": [
  {
   "cell_type": "markdown",
   "metadata": {},
   "source": [
    "## Import all of the packages"
   ]
  },
  {
   "cell_type": "code",
   "execution_count": 1,
   "metadata": {},
   "outputs": [
    {
     "name": "stderr",
     "output_type": "stream",
     "text": [
      "/Users/miamaric/opt/anaconda3/lib/python3.8/site-packages/skan/csr.py:21: NumbaDeprecationWarning: \u001b[1mThe 'numba.jitclass' decorator has moved to 'numba.experimental.jitclass' to better reflect the experimental nature of the functionality. Please update your imports to accommodate this change and see https://numba.pydata.org/numba-doc/latest/reference/deprecation.html#change-of-jitclass-location for the time frame.\u001b[0m\n",
      "  @numba.jitclass(csr_spec)\n"
     ]
    }
   ],
   "source": [
    "from RHaP import import_image\n",
    "from RHaP import cropping_functions as crop\n",
    "from matplotlib import pyplot as plt\n",
    "%matplotlib qt\n",
    "from RHaP import plot_functions as plt_f\n",
    "from RHaP import Radial_Hydride_Fraction as RHF\n",
    "from RHaP import branching as branch\n",
    "from RHaP import crack_path as cp\n",
    "from RHaP import image_processing\n",
    "from skan import draw\n"
   ]
  },
  {
   "cell_type": "markdown",
   "metadata": {},
   "source": [
    "## Importing Image"
   ]
  },
  {
   "cell_type": "code",
   "execution_count": 2,
   "metadata": {},
   "outputs": [
    {
     "data": {
      "text/plain": [
       "(-0.5, 2047.5, 1535.5, -0.5)"
      ]
     },
     "execution_count": 2,
     "metadata": {},
     "output_type": "execute_result"
    }
   ],
   "source": [
    "original_image = import_image.image(image_path ='example.bmp', transpose = True)\n",
    "\n",
    "plt.imshow(original_image, cmap='gray')\n",
    "plt.axis('off')"
   ]
  },
  {
   "cell_type": "markdown",
   "metadata": {},
   "source": [
    "## Cropping Image"
   ]
  },
  {
   "cell_type": "markdown",
   "metadata": {},
   "source": [
    "The first crop function `cropImage` is a rectangular crop this should be performed if you need to remove any addded scale bars or have a specific rectangular region you want to look at. \n",
    "\n",
    "The second crop function is `cropping_tube` this should be used if the micrograph is curved "
   ]
  },
  {
   "cell_type": "code",
   "execution_count": 3,
   "metadata": {},
   "outputs": [],
   "source": [
    "cropped_image = crop.cropImage(original_image, crop_bottom=250,crop_top=0, crop_left=0, crop_right=0)\n",
    "cropped_image,crop_threshold = crop.cropping_tube(cropped_image,crop_param = 0.1, size_param = 500, dilation_param =5)\n",
    "\n",
    "plt_f.plot_comparison(original_image, 'Original Image', cropped_image,'Cropped Image')\n",
    "\n"
   ]
  },
  {
   "cell_type": "markdown",
   "metadata": {},
   "source": [
    "## Image Processing"
   ]
  },
  {
   "cell_type": "markdown",
   "metadata": {},
   "source": [
    "Here the main aim is to accurately threshold an image to do this the grain contast is minimised through the application of a gaussian blurr in the `minimize_grain_contrast` function. After this, the images is thresholded using the `simple_threshold` function. Note it is important not too over threshold the image, guidance of a value to threshold can be attained by plotting histograms of the grain contrast."
   ]
  },
  {
   "cell_type": "code",
   "execution_count": 4,
   "metadata": {},
   "outputs": [],
   "source": [
    "removed_grains =image_processing.minimize_grain_contrast(cropped_image, sigma=4)\n",
    "\n",
    "#Plot the histogram for removed grains so that we can see where we should threshold --> is it possible to draw a red line where we reccomend the threshold???\n",
    "histogram = plt_f.plot_hist(removed_grains)\n"
   ]
  },
  {
   "cell_type": "code",
   "execution_count": 5,
   "metadata": {},
   "outputs": [
    {
     "name": "stderr",
     "output_type": "stream",
     "text": [
      "/Users/miamaric/Desktop/Rhap/RHaP/image_processing.py:64: RuntimeWarning: invalid value encountered in less\n",
      "  thres = image < threshold\n"
     ]
    }
   ],
   "source": [
    "thres = image_processing.simple_threshold(removed_grains,crop_threshold,threshold = 0.85, small_grains = 50)\n",
    "\n",
    "# we now want to plot the thresholded image and compare it to the original image: \n",
    "plt_f.plot_comparison(original_image, 'Original Image', thres,'Thresholded Image')\n"
   ]
  },
  {
   "cell_type": "markdown",
   "metadata": {},
   "source": [
    "## Radial Hydride Fraction Calculation"
   ]
  },
  {
   "cell_type": "markdown",
   "metadata": {},
   "source": [
    "The first step is to perform the hough line transform `hough_rad` there are a few input parameters that should be considered: \n",
    "`num_peaks`: this one should change dependent on the type of micrograph, if your hydrides are straight and not very interconnected a small value of around 2 is good, if in one box, there are many branches that need to be picked up, this value should be increased accordingly.\n",
    "`min_dist,min_angle and val` are pre-set and seem to work for most cases\n",
    "        "
   ]
  },
  {
   "cell_type": "code",
   "execution_count": 6,
   "metadata": {},
   "outputs": [
    {
     "name": "stderr",
     "output_type": "stream",
     "text": [
      "/Users/miamaric/Desktop/Rhap/RHaP/Radial_Hydride_Fraction.py:58: RuntimeWarning: invalid value encountered in greater\n",
      "  label, num_features = ndimage.label(image > 0.1)\n"
     ]
    },
    {
     "name": "stdout",
     "output_type": "stream",
     "text": [
      "Number of detected angles: 1031\n"
     ]
    }
   ],
   "source": [
    "angle_list,len_list = RHF.hough_rad(thres,num_peaks=2)"
   ]
  },
  {
   "cell_type": "code",
   "execution_count": 9,
   "metadata": {},
   "outputs": [
    {
     "name": "stdout",
     "output_type": "stream",
     "text": [
      "The non-weighted RHF = 0.4733370937649152\n"
     ]
    }
   ],
   "source": [
    "#Non weighted radial hydride fraction\n",
    "\n",
    "radial, circumferential = RHF.RHF_no_weighting_factor(angle_list,len_list)\n",
    "\n",
    "print('The non-weighted RHF =',radial)\n"
   ]
  },
  {
   "cell_type": "code",
   "execution_count": 10,
   "metadata": {},
   "outputs": [
    {
     "name": "stdout",
     "output_type": "stream",
     "text": [
      "The weighted RHF = 0.5245802056666812\n"
     ]
    }
   ],
   "source": [
    "#Weighted Radial Hydride Fraction \n",
    "\n",
    "RHF = RHF.weighted_RHF_calculation(angle_list,len_list)\n",
    "\n",
    "print('The weighted RHF =',RHF)"
   ]
  },
  {
   "cell_type": "markdown",
   "metadata": {},
   "source": [
    "## Branch Length Fraction"
   ]
  },
  {
   "cell_type": "markdown",
   "metadata": {},
   "source": [
    "##### Here we want to determine the extent of branching within the microstrucutre, this is done in two ways: \n",
    "    - In image form where the branches are coloured differently to the main hydride\n",
    "    - BLF the length fraction of branches with respect to the toatal length of all hydrides in the microstrucutre"
   ]
  },
  {
   "cell_type": "code",
   "execution_count": 11,
   "metadata": {},
   "outputs": [],
   "source": [
    "skel,is_main,BLF = branch.branch_classification(thres);\n",
    "\n"
   ]
  },
  {
   "cell_type": "code",
   "execution_count": 12,
   "metadata": {},
   "outputs": [
    {
     "name": "stdout",
     "output_type": "stream",
     "text": [
      "0.16247437974221846\n"
     ]
    }
   ],
   "source": [
    "#I dk how to make this bigger, better quality and how to add a legend? \n",
    "\n",
    "branched_image = draw.overlay_skeleton_2d_class(\n",
    "    skel,\n",
    "    skeleton_color_source=lambda s: is_main,\n",
    "    skeleton_colormap='spring',\n",
    "\n",
    "     )\n",
    "\n",
    "plt.axis('off')\n",
    "\n",
    "print(BLF)"
   ]
  },
  {
   "cell_type": "markdown",
   "metadata": {},
   "source": [
    "## Crack Path"
   ]
  },
  {
   "cell_type": "markdown",
   "metadata": {},
   "source": [
    "#####  Here we want to determine potential crack paths through the microstrucutre, we input the thresholded image "
   ]
  },
  {
   "cell_type": "code",
   "execution_count": 17,
   "metadata": {},
   "outputs": [],
   "source": [
    "edist, path_list, cost_list = cp.det_crack_path(thres,crop_threshold,num_runs=10,kernel_size =70)"
   ]
  },
  {
   "cell_type": "code",
   "execution_count": null,
   "metadata": {},
   "outputs": [],
   "source": [
    "print(edist.shape)"
   ]
  },
  {
   "cell_type": "code",
   "execution_count": null,
   "metadata": {},
   "outputs": [],
   "source": [
    "print(path_list[0])"
   ]
  },
  {
   "cell_type": "code",
   "execution_count": 18,
   "metadata": {},
   "outputs": [
    {
     "name": "stdout",
     "output_type": "stream",
     "text": [
      "Run #0\tCost = 1985.91\n",
      "Run #1\tCost = 1999.27\n",
      "Run #2\tCost = 2524.78\n",
      "Run #3\tCost = 2708.05\n",
      "Run #4\tCost = 2775.78\n",
      "Run #5\tCost = 2990.53\n",
      "Run #6\tCost = 3361.34\n",
      "Run #7\tCost = 3382.38\n",
      "Run #8\tCost = 3600.52\n",
      "Run #9\tCost = 3659.87\n"
     ]
    }
   ],
   "source": [
    "list_costs = []\n",
    "for n, (p, c) in enumerate(zip(path_list, cost_list)):\n",
    "    im = plt.imshow(edist)\n",
    "    if n==0:\n",
    "        plt.colorbar(im,fraction=0.03, pad=0.01)\n",
    "    plt.scatter(p[:,1], p[:,0], s=3)\n",
    "    plt.text(p[-1][1], p[-1][0], s=str(n), c='w', bbox=dict(facecolor='black', edgecolor='black'))\n",
    "    plt.axis('off')\n",
    "    print('Run #{0}\\tCost = {1:.2f}'.format(n,c))\n",
    "    list_costs.append(c)"
   ]
  },
  {
   "cell_type": "code",
   "execution_count": 19,
   "metadata": {},
   "outputs": [],
   "source": [
    "#Histograms for plotting the costs of each path\n",
    "plt.hist(list_costs, bins=5, cumulative = True, color = \"cornflowerblue\", ec=\"cornflowerblue\", label = \"Cumulative Distribution Function\")\n",
    "plt.hist(list_costs, bins=5, color = \"lightpink\", ec=\"lightpink\", label = \"Normal Distribution Function\")\n",
    "plt.legend()\n",
    "plt.xlabel('Cost', fontsize=\"12\")\n",
    "plt.ylabel('Frequency',fontsize=\"12\")\n",
    "plt.title('Paths of Lowest Cost', fontweight=\"bold\", fontsize=\"15\")\n",
    "plt.show()"
   ]
  },
  {
   "cell_type": "code",
   "execution_count": null,
   "metadata": {},
   "outputs": [],
   "source": []
  },
  {
   "cell_type": "code",
   "execution_count": null,
   "metadata": {},
   "outputs": [],
   "source": []
  }
 ],
 "metadata": {
  "kernelspec": {
   "display_name": "Python 3",
   "language": "python",
   "name": "python3"
  },
  "language_info": {
   "codemirror_mode": {
    "name": "ipython",
    "version": 3
   },
   "file_extension": ".py",
   "mimetype": "text/x-python",
   "name": "python",
   "nbconvert_exporter": "python",
   "pygments_lexer": "ipython3",
   "version": "3.8.3"
  }
 },
 "nbformat": 4,
 "nbformat_minor": 4
}
